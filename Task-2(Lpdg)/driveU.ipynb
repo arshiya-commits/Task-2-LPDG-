{
 "cells": [
  {
   "cell_type": "code",
   "execution_count": 1,
   "id": "39446b5e",
   "metadata": {},
   "outputs": [
    {
     "name": "stdout",
     "output_type": "stream",
     "text": [
      "                                          image_path  latitude  longitude  \\\n",
      "0  ./Bochum/Bochum1/2015-04-21_17-09-21/DE_BBBR66...     270.0      180.0   \n",
      "1  ./Bochum/Bochum1/2015-04-21_17-09-21/DE_BBBR66...     270.0      180.0   \n",
      "2  ./Bochum/Bochum1/2015-04-21_17-09-21/DE_BBBR66...     270.0      180.0   \n",
      "3  ./Bochum/Bochum1/2015-04-21_17-09-21/DE_BBBR66...     270.0      180.0   \n",
      "4  ./Bochum/Bochum1/2015-04-21_17-09-21/DE_BBBR66...     270.0      180.0   \n",
      "\n",
      "     time_stamp  velocity    x    y  w   h   attr_aspects attr_direction  \\\n",
      "0  1.429629e+09   4.19444  770  281  7  22  three_aspects          front   \n",
      "1  1.429629e+09   4.19444  863  280  8  22  three_aspects          front   \n",
      "2  1.429629e+09   5.41667  765  275  8  21  three_aspects          front   \n",
      "3  1.429629e+09   5.41667  860  273  9  23  three_aspects          front   \n",
      "4  1.429629e+09   6.44444  761  269  8  22  three_aspects          front   \n",
      "\n",
      "  attr_occlusion attr_orientation attr_pictogram attr_reflection  \\\n",
      "0   not_occluded         vertical     arrow_left   not_reflected   \n",
      "1   not_occluded         vertical         circle   not_reflected   \n",
      "2   not_occluded         vertical     arrow_left   not_reflected   \n",
      "3   not_occluded         vertical         circle   not_reflected   \n",
      "4   not_occluded         vertical     arrow_left   not_reflected   \n",
      "\n",
      "  attr_relevance attr_state  \n",
      "0       relevant      green  \n",
      "1       relevant      green  \n",
      "2       relevant      green  \n",
      "3       relevant      green  \n",
      "4       relevant      green  \n"
     ]
    }
   ],
   "source": [
    "import pandas as pd\n",
    "#importing the csv file \n",
    "df=pd.read_csv(r\"C:\\Users\\arshi\\Downloads\\traffic_dataset.csv\")\n",
    "#first five rows of the file\n",
    "print(df.head(5))"
   ]
  },
  {
   "cell_type": "code",
   "execution_count": null,
   "id": "832bbec2",
   "metadata": {},
   "outputs": [],
   "source": [
    " #CSV --> dataframe\n",
    "data=pd.DataFrame(df)"
   ]
  },
  {
   "cell_type": "code",
   "execution_count": 3,
   "id": "87e6bddd",
   "metadata": {},
   "outputs": [],
   "source": [
    "#converting the timestamp into datetime\n",
    "data['datetime']=pd.to_datetime(data['time_stamp'],unit='s')"
   ]
  },
  {
   "cell_type": "code",
   "execution_count": 4,
   "id": "550f2940",
   "metadata": {},
   "outputs": [],
   "source": [
    "#sorting the dataset based on the datetime column\n",
    "data_sort=data.sort_values(\"datetime\").reset_index(drop=True)"
   ]
  },
  {
   "cell_type": "code",
   "execution_count": 5,
   "id": "202dea37",
   "metadata": {},
   "outputs": [],
   "source": [
    "# previous velocity and the time\n",
    "data_sort[\"prev_velocity\"]=data_sort['velocity'].shift(1)\n",
    "data_sort['prev_time']=data_sort['datetime'].shift(1)"
   ]
  },
  {
   "cell_type": "code",
   "execution_count": 6,
   "id": "20387434",
   "metadata": {},
   "outputs": [],
   "source": [
    "#calculating the differences b/w current and previous velocity\n",
    "data_sort[\"delta_v\"]=data_sort['velocity']-data_sort['prev_velocity']"
   ]
  },
  {
   "cell_type": "code",
   "execution_count": 7,
   "id": "44fd2517",
   "metadata": {},
   "outputs": [],
   "source": [
    "#calculating the differences b/w current and previous datetime\n",
    "data_sort[\"delta_t\"] = (data_sort[\"datetime\"] - data_sort[\"prev_time\"]).dt.total_seconds()"
   ]
  },
  {
   "cell_type": "code",
   "execution_count": 8,
   "id": "441a6cee",
   "metadata": {},
   "outputs": [],
   "source": [
    "data_sort['Status']=\"Normal\""
   ]
  },
  {
   "cell_type": "code",
   "execution_count": 10,
   "id": "e0ea4b2d",
   "metadata": {},
   "outputs": [],
   "source": [
    "#mark anomalies\n",
    "data_sort.loc[data_sort['velocity']<0,\"Status\"]=\"anomalous\"\n",
    "data_sort.loc[(data_sort[\"delta_v\"].abs() >= 10) & (data_sort[\"delta_t\"] <= 0.5), \"Status\"] = \"anomalous\""
   ]
  },
  {
   "cell_type": "code",
   "execution_count": 11,
   "id": "9d2dd8b5",
   "metadata": {},
   "outputs": [
    {
     "data": {
      "text/plain": [
       "Status\n",
       "Normal    1137\n",
       "Name: count, dtype: int64"
      ]
     },
     "execution_count": 11,
     "metadata": {},
     "output_type": "execute_result"
    }
   ],
   "source": [
    "data_sort['Status'].value_counts()"
   ]
  },
  {
   "cell_type": "code",
   "execution_count": 12,
   "id": "769db8ce",
   "metadata": {},
   "outputs": [
    {
     "name": "stdout",
     "output_type": "stream",
     "text": [
      "Number of anomalies: 0\n"
     ]
    }
   ],
   "source": [
    "anomaly_count = (data_sort[\"Status\"] == \"anomalous\").sum()\n",
    "print(\"Number of anomalies:\", anomaly_count)"
   ]
  },
  {
   "cell_type": "code",
   "execution_count": null,
   "id": "c340b494",
   "metadata": {},
   "outputs": [],
   "source": []
  }
 ],
 "metadata": {
  "kernelspec": {
   "display_name": "base",
   "language": "python",
   "name": "python3"
  },
  "language_info": {
   "codemirror_mode": {
    "name": "ipython",
    "version": 3
   },
   "file_extension": ".py",
   "mimetype": "text/x-python",
   "name": "python",
   "nbconvert_exporter": "python",
   "pygments_lexer": "ipython3",
   "version": "3.12.7"
  }
 },
 "nbformat": 4,
 "nbformat_minor": 5
}
